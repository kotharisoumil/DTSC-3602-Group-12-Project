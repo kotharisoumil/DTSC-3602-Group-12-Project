{
 "cells": [
  {
   "cell_type": "markdown",
   "metadata": {},
   "source": [
    "Imports and Data Cleaning"
   ]
  },
  {
   "cell_type": "code",
   "execution_count": 44,
   "metadata": {},
   "outputs": [],
   "source": [
    "import pandas as pd\n",
    "import numpy as np\n",
    "import matplotlib.pyplot as plt\n",
    "\n",
    "from sklearn.model_selection import train_test_split\n",
    "from sklearn.preprocessing import OneHotEncoder, StandardScaler\n",
    "from sklearn.compose import ColumnTransformer\n",
    "from sklearn.pipeline import Pipeline\n",
    "from sklearn.metrics import classification_report, accuracy_score\n",
    "from sklearn.linear_model import LogisticRegression\n",
    "from sklearn.ensemble import RandomForestClassifier\n",
    "from sklearn.ensemble import GradientBoostingClassifier"
   ]
  },
  {
   "cell_type": "markdown",
   "metadata": {},
   "source": [
    "*Baseline Representation*"
   ]
  },
  {
   "cell_type": "code",
   "execution_count": 2,
   "metadata": {},
   "outputs": [],
   "source": [
    "df = pd.read_csv(\"Crime_Data_from_2020_to_Present copy.csv\")"
   ]
  },
  {
   "cell_type": "code",
   "execution_count": 3,
   "metadata": {},
   "outputs": [],
   "source": [
    "df.drop(columns=[\n",
    "    'Status', 'Status Desc', 'Crm Cd', 'Crm Cd 1', 'Crm Cd 2', \n",
    "    'Crm Cd 3', 'Crm Cd 4', 'DR_NO', 'LOCATION', 'Cross Street'\n",
    "], inplace=True, errors='ignore')"
   ]
  },
  {
   "cell_type": "code",
   "execution_count": 4,
   "metadata": {},
   "outputs": [
    {
     "name": "stderr",
     "output_type": "stream",
     "text": [
      "/var/folders/_f/fmfry0h146q34wf_0v7085kh0000gn/T/ipykernel_1054/3210269932.py:2: UserWarning: Could not infer format, so each element will be parsed individually, falling back to `dateutil`. To ensure parsing is consistent and as-expected, please specify a format.\n",
      "  df[col] = pd.to_datetime(df[col], errors='coerce')\n",
      "/var/folders/_f/fmfry0h146q34wf_0v7085kh0000gn/T/ipykernel_1054/3210269932.py:2: UserWarning: Could not infer format, so each element will be parsed individually, falling back to `dateutil`. To ensure parsing is consistent and as-expected, please specify a format.\n",
      "  df[col] = pd.to_datetime(df[col], errors='coerce')\n"
     ]
    }
   ],
   "source": [
    "for col in ['Date Rptd', 'DATE OCC']:\n",
    "    df[col] = pd.to_datetime(df[col], errors='coerce')"
   ]
  },
  {
   "cell_type": "code",
   "execution_count": 5,
   "metadata": {},
   "outputs": [],
   "source": [
    "df.dropna(subset=['Crm Cd Desc', 'Vict Age', 'Vict Sex', 'Vict Descent', 'LAT', 'LON'], inplace=True)\n"
   ]
  },
  {
   "cell_type": "code",
   "execution_count": 6,
   "metadata": {},
   "outputs": [],
   "source": [
    "df = df[(df['Vict Age'] > 0) & (df['Vict Age'] < 120)]"
   ]
  },
  {
   "cell_type": "code",
   "execution_count": 7,
   "metadata": {},
   "outputs": [],
   "source": [
    "def simplify_crime_type(desc):\n",
    "    desc = str(desc).lower()\n",
    "\n",
    "    # --- Theft / financial crimes ---\n",
    "    if any(word in desc for word in [\n",
    "        \"theft\", \"robbery\", \"burglary\", \"stolen\", \"shoplift\", \"stealing\",\n",
    "        \"pickpocket\", \"purse snatching\", \"till tap\", \"forgery\", \"embezzlement\",\n",
    "        \"bunco\", \"prowler\", \"larceny\", \"credit card\", \"fraud\", \"counterfeit\",\n",
    "        \"document worthless\", \"stolen property\"\n",
    "    ]):\n",
    "        return \"Theft\"\n",
    "\n",
    "    # --- Assault / violent interpersonal crimes ---\n",
    "    elif any(word in desc for word in [\"assault\", \"battery\", \"fighting\", \"mayhem\"]):\n",
    "        return \"Assault\"\n",
    "\n",
    "    # --- Homicide-related ---\n",
    "    elif any(word in desc for word in [\"homicide\", \"murder\", \"manslaughter\"]):\n",
    "        return \"Homicide\"\n",
    "\n",
    "    # --- Sexual crimes ---\n",
    "    elif any(word in desc for word in [\n",
    "        \"rape\", \"sexual\", \"lewd\", \"oral copulation\", \"indecent\", \"molest\",\n",
    "        \"child pornography\", \"sex\", \"peeping tom\", \"pimping\"\n",
    "    ]):\n",
    "        return \"Sexual Crime\"\n",
    "\n",
    "    # --- Property damage / vandalism / trespass ---\n",
    "    elif any(word in desc for word in [\n",
    "        \"vandalism\", \"arson\", \"trespass\", \"malicious mischief\", \"graffiti\",\n",
    "        \"illegal dumping\", \"property damage\", \"telephone\"\n",
    "    ]):\n",
    "        return \"Property Crime\"\n",
    "\n",
    "    # --- Drugs / alcohol ---\n",
    "    elif any(word in desc for word in [\"drunk\", \"narcotic\", \"drug\", \"alcohol\", \"under influence\"]):\n",
    "        return \"Drug/Alcohol\"\n",
    "\n",
    "    # --- Weapons / shootings ---\n",
    "    elif any(word in desc for word in [\"weapon\", \"firearm\", \"gun\", \"shooting\", \"shots fired\"]):\n",
    "        return \"Weapon Offense\"\n",
    "\n",
    "    # --- Kidnapping or abduction ---\n",
    "    elif any(word in desc for word in [\"kidnap\", \"abduction\", \"child stealing\", \"false imprisonment\"]):\n",
    "        return \"Kidnapping\"\n",
    "\n",
    "    # --- Threats, harassment, stalking, restraining order, or disruption ---\n",
    "    elif any(word in desc for word in [\n",
    "        \"threat\", \"extortion\", \"stalking\", \"harass\", \"intimidation\", \"restraining order\",\n",
    "        \"court order\", \"contempt\", \"violation of restraining\", \"disturbing the peace\",\n",
    "        \"disrupt school\", \"riot\", \"lynching\", \"bomb\"\n",
    "    ]):\n",
    "        return \"Threat/Intimidation\"\n",
    "\n",
    "    # --- Vehicle / traffic crimes ---\n",
    "    elif any(word in desc for word in [\"vehicle\", \"traffic\", \"hit and run\", \"failure to yield\", \"driving\"]):\n",
    "        return \"Vehicle Crime\"\n",
    "\n",
    "    # --- Family or child-related crimes ---\n",
    "    elif any(word in desc for word in [\n",
    "        \"child\", \"chld\", \"abandonment\", \"neglect\", \"runaway\", \"custody\", \"domestic\",\n",
    "        \"pandering\", \"contributing\", \"cruelty to animals\", \"family\", \"disrupt school\", \"bigamy\"\n",
    "    ]):\n",
    "        return \"Family/Child Issue\"\n",
    "\n",
    "    # --- Cyber / computer crimes ---\n",
    "    elif any(word in desc for word in [\"computer\", \"cyber\", \"unauthorized access\", \"hacking\"]):\n",
    "        return \"Cyber Crime\"\n",
    "\n",
    "    # --- Miscellaneous or rare ---\n",
    "    else:\n",
    "        return \"Other\"\n"
   ]
  },
  {
   "cell_type": "code",
   "execution_count": 8,
   "metadata": {},
   "outputs": [
    {
     "name": "stdout",
     "output_type": "stream",
     "text": [
      "Crime_Category\n",
      "Theft                  367298\n",
      "Assault                197608\n",
      "Property Crime          76724\n",
      "Weapon Offense          35269\n",
      "Threat/Intimidation     25905\n",
      "Sexual Crime            19388\n",
      "Other                    4713\n",
      "Family/Child Issue       3985\n",
      "Homicide                 1552\n",
      "Vehicle Crime            1387\n",
      "Kidnapping               1260\n",
      "Cyber Crime               463\n",
      "Drug/Alcohol               44\n",
      "Name: count, dtype: int64\n"
     ]
    }
   ],
   "source": [
    "# Apply the simplification\n",
    "df[\"Crime_Category\"] = df[\"Crm Cd Desc\"].apply(simplify_crime_type)\n",
    "\n",
    "# Check distribution\n",
    "print(df[\"Crime_Category\"].value_counts())"
   ]
  },
  {
   "cell_type": "code",
   "execution_count": 9,
   "metadata": {},
   "outputs": [],
   "source": [
    "df[\"Crime_Category\"] = df[\"Crm Cd Desc\"].apply(simplify_crime_type)"
   ]
  },
  {
   "cell_type": "code",
   "execution_count": 10,
   "metadata": {},
   "outputs": [],
   "source": [
    "df[\"OCC_Year\"] = df[\"DATE OCC\"].dt.year\n",
    "df[\"OCC_Month\"] = df[\"DATE OCC\"].dt.month\n",
    "df[\"OCC_Day\"] = df[\"DATE OCC\"].dt.day\n",
    "df[\"OCC_Weekday\"] = df[\"DATE OCC\"].dt.day_name()\n",
    "df[\"OCC_Hour\"] = df[\"TIME OCC\"] // 100"
   ]
  },
  {
   "cell_type": "code",
   "execution_count": 24,
   "metadata": {},
   "outputs": [],
   "source": [
    "demo_cols = [\"Vict Age\", \"Vict Sex\", \"Vict Descent\"]\n",
    "contextual_cols = [\"AREA\", \"AREA NAME\", \"Rpt Dist No\"]"
   ]
  },
  {
   "cell_type": "code",
   "execution_count": 25,
   "metadata": {},
   "outputs": [],
   "source": [
    "model_cols = demo_cols + contextual_cols + [\n",
    "    \"Part 1-2\", \"OCC_Year\", \"OCC_Month\", \"OCC_Weekday\", \"OCC_Hour\"\n",
    "]\n",
    "\n",
    "df_model = df[model_cols + [\"Crime_Category\"]].dropna().copy()"
   ]
  },
  {
   "cell_type": "code",
   "execution_count": 26,
   "metadata": {},
   "outputs": [
    {
     "name": "stdout",
     "output_type": "stream",
     "text": [
      "Shape: (735596, 12)\n",
      "\n",
      "Columns ready for modeling:\n",
      " ['Vict Age', 'Vict Sex', 'Vict Descent', 'AREA', 'AREA NAME', 'Rpt Dist No', 'Part 1-2', 'OCC_Year', 'OCC_Month', 'OCC_Weekday', 'OCC_Hour', 'Crime_Category']\n",
      "\n",
      "Target distribution:\n",
      " Crime_Category\n",
      "Theft                  367298\n",
      "Assault                197608\n",
      "Property Crime          76724\n",
      "Weapon Offense          35269\n",
      "Threat/Intimidation     25905\n",
      "Sexual Crime            19388\n",
      "Other                    4713\n",
      "Family/Child Issue       3985\n",
      "Homicide                 1552\n",
      "Vehicle Crime            1387\n",
      "Kidnapping               1260\n",
      "Cyber Crime               463\n",
      "Drug/Alcohol               44\n",
      "Name: count, dtype: int64\n"
     ]
    }
   ],
   "source": [
    "print(\"Shape:\", df_model.shape)\n",
    "print(\"\\nColumns ready for modeling:\\n\", df_model.columns.tolist())\n",
    "print(\"\\nTarget distribution:\\n\", df_model[\"Crime_Category\"].value_counts())"
   ]
  },
  {
   "cell_type": "markdown",
   "metadata": {},
   "source": [
    "Pre-processing Steps"
   ]
  },
  {
   "cell_type": "code",
   "execution_count": 27,
   "metadata": {},
   "outputs": [],
   "source": [
    "X = df_model.drop(columns=[\"Crime_Category\"])\n",
    "y = df_model[\"Crime_Category\"]"
   ]
  },
  {
   "cell_type": "code",
   "execution_count": 28,
   "metadata": {},
   "outputs": [],
   "source": [
    "cat_cols = [c for c in X.columns if X[c].dtype == \"object\"]\n",
    "num_cols = [c for c in X.columns if np.issubdtype(X[c].dtype, np.number)]"
   ]
  },
  {
   "cell_type": "code",
   "execution_count": 29,
   "metadata": {},
   "outputs": [],
   "source": [
    "preprocessor = ColumnTransformer([\n",
    "    (\"num\", StandardScaler(), num_cols),\n",
    "    (\"cat\", OneHotEncoder(handle_unknown=\"ignore\"), cat_cols)\n",
    "])"
   ]
  },
  {
   "cell_type": "code",
   "execution_count": 30,
   "metadata": {},
   "outputs": [],
   "source": [
    "# Train/Test Split\n",
    "X_train, X_test, y_train, y_test = train_test_split( X, y, test_size=0.2, stratify=y, random_state=42)"
   ]
  },
  {
   "cell_type": "markdown",
   "metadata": {},
   "source": [
    "Model 1: Logistic Regression"
   ]
  },
  {
   "cell_type": "code",
   "execution_count": 31,
   "metadata": {},
   "outputs": [],
   "source": [
    "logreg_pipe = Pipeline([\n",
    "    (\"pre\", preprocessor),\n",
    "    (\"model\", LogisticRegression(max_iter=300, n_jobs=-1))\n",
    "])"
   ]
  },
  {
   "cell_type": "code",
   "execution_count": 32,
   "metadata": {},
   "outputs": [],
   "source": [
    "logreg_pipe.fit(X_train, y_train)\n",
    "y_pred_logreg = logreg_pipe.predict(X_test)"
   ]
  },
  {
   "cell_type": "code",
   "execution_count": 35,
   "metadata": {},
   "outputs": [
    {
     "name": "stdout",
     "output_type": "stream",
     "text": [
      "Logistic Regression Results:\n",
      "                     precision    recall  f1-score   support\n",
      "\n",
      "            Assault       0.42      0.57      0.49     39522\n",
      "        Cyber Crime       0.00      0.00      0.00        92\n",
      "       Drug/Alcohol       0.00      0.00      0.00         9\n",
      " Family/Child Issue       0.49      0.36      0.41       797\n",
      "           Homicide       0.00      0.00      0.00       310\n",
      "         Kidnapping       0.00      0.00      0.00       252\n",
      "              Other       0.00      0.00      0.00       943\n",
      "     Property Crime       0.38      0.12      0.19     15345\n",
      "       Sexual Crime       0.00      0.00      0.00      3878\n",
      "              Theft       0.71      0.85      0.77     73460\n",
      "Threat/Intimidation       0.00      0.00      0.00      5181\n",
      "      Vehicle Crime       0.00      0.00      0.00       277\n",
      "     Weapon Offense       0.00      0.00      0.00      7054\n",
      "\n",
      "           accuracy                           0.59    147120\n",
      "          macro avg       0.15      0.15      0.14    147120\n",
      "       weighted avg       0.51      0.59      0.54    147120\n",
      "\n",
      "Accuracy: 0.5938\n"
     ]
    }
   ],
   "source": [
    "print(\"Logistic Regression Results:\")\n",
    "print(classification_report(y_test, y_pred_logreg, zero_division=0))\n",
    "print(\"Accuracy:\", round(accuracy_score(y_test, y_pred_logreg), 4))"
   ]
  },
  {
   "cell_type": "markdown",
   "metadata": {},
   "source": [
    "Model 2: Gradient Boost"
   ]
  },
  {
   "cell_type": "code",
   "execution_count": 37,
   "metadata": {},
   "outputs": [],
   "source": [
    "gb_pipe = Pipeline([\n",
    "    (\"pre\", preprocessor),\n",
    "    (\"model\", GradientBoostingClassifier(n_estimators=100, learning_rate=0.1, max_depth=3, random_state=42))\n",
    "])"
   ]
  },
  {
   "cell_type": "code",
   "execution_count": 39,
   "metadata": {},
   "outputs": [],
   "source": [
    "gb_pipe.fit(X_train, y_train)\n",
    "y_pred_gb = gb_pipe.predict(X_test)"
   ]
  },
  {
   "cell_type": "code",
   "execution_count": 40,
   "metadata": {},
   "outputs": [
    {
     "name": "stdout",
     "output_type": "stream",
     "text": [
      "Gradient Boosting Results\n",
      "                     precision    recall  f1-score   support\n",
      "\n",
      "            Assault       0.45      0.58      0.50     39522\n",
      "        Cyber Crime       0.00      0.00      0.00        92\n",
      "       Drug/Alcohol       0.00      0.00      0.00         9\n",
      " Family/Child Issue       0.51      0.37      0.43       797\n",
      "           Homicide       0.00      0.00      0.00       310\n",
      "         Kidnapping       0.00      0.00      0.00       252\n",
      "              Other       1.00      0.00      0.00       943\n",
      "     Property Crime       0.45      0.19      0.27     15345\n",
      "       Sexual Crime       0.49      0.06      0.11      3878\n",
      "              Theft       0.72      0.88      0.79     73460\n",
      "Threat/Intimidation       0.43      0.00      0.00      5181\n",
      "      Vehicle Crime       0.31      0.02      0.03       277\n",
      "     Weapon Offense       0.40      0.00      0.00      7054\n",
      "\n",
      "           accuracy                           0.62    147120\n",
      "          macro avg       0.37      0.16      0.16    147120\n",
      "       weighted avg       0.59      0.62      0.56    147120\n",
      "\n",
      "Accuracy: 0.6157\n"
     ]
    }
   ],
   "source": [
    "print(\"Gradient Boosting Results\")\n",
    "print(classification_report(y_test, y_pred_gb, zero_division=0))\n",
    "print(\"Accuracy:\", round(accuracy_score(y_test, y_pred_gb), 4))"
   ]
  },
  {
   "cell_type": "markdown",
   "metadata": {},
   "source": [
    "Model 3: Random Forest"
   ]
  },
  {
   "cell_type": "code",
   "execution_count": 41,
   "metadata": {},
   "outputs": [],
   "source": [
    "rf_pipe = Pipeline([\n",
    "    (\"pre\", preprocessor),\n",
    "    (\"model\", RandomForestClassifier(\n",
    "        n_estimators=150, max_depth=15, n_jobs=-1, random_state=42))\n",
    "])"
   ]
  },
  {
   "cell_type": "code",
   "execution_count": 42,
   "metadata": {},
   "outputs": [],
   "source": [
    "rf_pipe.fit(X_train, y_train)\n",
    "y_pred_rf = rf_pipe.predict(X_test)"
   ]
  },
  {
   "cell_type": "code",
   "execution_count": 43,
   "metadata": {},
   "outputs": [
    {
     "name": "stdout",
     "output_type": "stream",
     "text": [
      "Random Forest Results\n",
      "                     precision    recall  f1-score   support\n",
      "\n",
      "            Assault       0.45      0.58      0.51     39522\n",
      "        Cyber Crime       0.00      0.00      0.00        92\n",
      "       Drug/Alcohol       0.00      0.00      0.00         9\n",
      " Family/Child Issue       0.71      0.08      0.14       797\n",
      "           Homicide       0.00      0.00      0.00       310\n",
      "         Kidnapping       0.00      0.00      0.00       252\n",
      "              Other       1.00      0.00      0.00       943\n",
      "     Property Crime       0.55      0.09      0.16     15345\n",
      "       Sexual Crime       0.66      0.03      0.06      3878\n",
      "              Theft       0.70      0.89      0.79     73460\n",
      "Threat/Intimidation       1.00      0.00      0.00      5181\n",
      "      Vehicle Crime       0.50      0.02      0.04       277\n",
      "     Weapon Offense       1.00      0.00      0.00      7054\n",
      "\n",
      "           accuracy                           0.61    147120\n",
      "          macro avg       0.51      0.13      0.13    147120\n",
      "       weighted avg       0.64      0.61      0.55    147120\n",
      "\n",
      "Accuracy: 0.6125\n"
     ]
    }
   ],
   "source": [
    "print(\"Random Forest Results\")\n",
    "print(classification_report(y_test, y_pred_rf, zero_division=0))\n",
    "print(\"Accuracy:\", round(accuracy_score(y_test, y_pred_rf), 4))"
   ]
  },
  {
   "cell_type": "markdown",
   "metadata": {},
   "source": [
    "Fairness Evaluation "
   ]
  },
  {
   "cell_type": "code",
   "execution_count": 48,
   "metadata": {},
   "outputs": [],
   "source": [
    "# Map LAPD Vict Descent codes to full subgroup names (make reading fairness easier)\n",
    "descent_mapping = {\n",
    "    \"A\": \"Other Asian\",\n",
    "    \"B\": \"Black\",\n",
    "    \"C\": \"Chinese\",\n",
    "    \"D\": \"Cambodian\",\n",
    "    \"F\": \"Filipino\",\n",
    "    \"G\": \"Guamanian\",\n",
    "    \"H\": \"Hispanic/Latino\",\n",
    "    \"I\": \"American Indian/Alaskan Native\",\n",
    "    \"J\": \"Japanese\",\n",
    "    \"K\": \"Korean\",\n",
    "    \"L\": \"Laotian\",\n",
    "    \"O\": \"Other\",\n",
    "    \"P\": \"Pacific Islander\",\n",
    "    \"S\": \"Samoan\",\n",
    "    \"U\": \"Hawaiian\",\n",
    "    \"V\": \"Vietnamese\",\n",
    "    \"W\": \"White\",\n",
    "    \"X\": \"Unknown\",\n",
    "    \"Z\": \"Asian Indian\"\n",
    "}\n",
    "\n",
    "df[\"Vict Descent Full\"] = df[\"Vict Descent\"].map(descent_mapping).fillna(\"Unknown\")"
   ]
  },
  {
   "cell_type": "code",
   "execution_count": 50,
   "metadata": {},
   "outputs": [
    {
     "name": "stdout",
     "output_type": "stream",
     "text": [
      "Fairness Results — Logistic Regression\n",
      "group\n",
      "Hawaiian                          0.897\n",
      "Vietnamese                        0.893\n",
      "Japanese                          0.891\n",
      "Chinese                           0.891\n",
      "Cambodian                         0.875\n",
      "Asian Indian                      0.852\n",
      "Filipino                          0.833\n",
      "American Indian/Alaskan Native    0.824\n",
      "Korean                            0.816\n",
      "Pacific Islander                  0.811\n",
      "Unknown                           0.765\n",
      "Laotian                           0.750\n",
      "Other Asian                       0.688\n",
      "Guamanian                         0.688\n",
      "Samoan                            0.667\n",
      "White                             0.658\n",
      "Other                             0.625\n",
      "Hispanic/Latino                   0.552\n",
      "Black                             0.507\n",
      "dtype: float64\n",
      "\n",
      "Subgroup Accuracy Gap: 0.390\n"
     ]
    },
    {
     "name": "stderr",
     "output_type": "stream",
     "text": [
      "/var/folders/_f/fmfry0h146q34wf_0v7085kh0000gn/T/ipykernel_1054/3538136168.py:8: DeprecationWarning: DataFrameGroupBy.apply operated on the grouping columns. This behavior is deprecated, and in a future version of pandas the grouping columns will be excluded from the operation. Either pass `include_groups=False` to exclude the groupings or explicitly select the grouping columns after groupby to silence this warning.\n",
      "  acc_by_group = df_logisticreg.groupby(\"group\").apply(lambda x: accuracy_score(x.y_true, x.y_pred))\n"
     ]
    }
   ],
   "source": [
    "# Logistic Regression Fairness\n",
    "df_logisticreg = pd.DataFrame({\n",
    "    \"y_true\" : y_test,\n",
    "    \"y_pred\" : y_pred_logreg,\n",
    "    \"group\" :  df.loc[y_test.index, \"Vict Descent Full\"]\n",
    "})\n",
    "\n",
    "acc_by_group = df_logisticreg.groupby(\"group\").apply(lambda x: accuracy_score(x.y_true, x.y_pred))\n",
    "gap = acc_by_group.max() - acc_by_group.min()\n",
    "\n",
    "print(\"Fairness Results — Logistic Regression\")\n",
    "print(acc_by_group.sort_values(ascending=False).round(3))\n",
    "print(f\"\\nSubgroup Accuracy Gap: {gap:.3f}\")"
   ]
  },
  {
   "cell_type": "code",
   "execution_count": 51,
   "metadata": {},
   "outputs": [
    {
     "name": "stdout",
     "output_type": "stream",
     "text": [
      "Fairness Results — Gradient Boosting\n",
      "group\n",
      "Vietnamese                        0.915\n",
      "Chinese                           0.911\n",
      "Japanese                          0.908\n",
      "Hawaiian                          0.897\n",
      "Cambodian                         0.875\n",
      "Filipino                          0.868\n",
      "Asian Indian                      0.852\n",
      "Korean                            0.830\n",
      "American Indian/Alaskan Native    0.824\n",
      "Unknown                           0.781\n",
      "Pacific Islander                  0.774\n",
      "Other Asian                       0.698\n",
      "Guamanian                         0.688\n",
      "White                             0.681\n",
      "Other                             0.657\n",
      "Hispanic/Latino                   0.568\n",
      "Laotian                           0.562\n",
      "Samoan                            0.556\n",
      "Black                             0.537\n",
      "dtype: float64\n",
      "\n",
      "Subgroup Accuracy Gap: 0.378\n"
     ]
    },
    {
     "name": "stderr",
     "output_type": "stream",
     "text": [
      "/var/folders/_f/fmfry0h146q34wf_0v7085kh0000gn/T/ipykernel_1054/1244400234.py:8: DeprecationWarning: DataFrameGroupBy.apply operated on the grouping columns. This behavior is deprecated, and in a future version of pandas the grouping columns will be excluded from the operation. Either pass `include_groups=False` to exclude the groupings or explicitly select the grouping columns after groupby to silence this warning.\n",
      "  acc_by_group_gb = df_gb.groupby(\"group\").apply(lambda x: accuracy_score(x.y_true, x.y_pred))\n"
     ]
    }
   ],
   "source": [
    "# Gradient Boost Fairness\n",
    "df_gb = pd.DataFrame({\n",
    "    \"y_true\": y_test,\n",
    "    \"y_pred\": y_pred_gb,\n",
    "    \"group\": df.loc[y_test.index, \"Vict Descent Full\"]\n",
    "})\n",
    "\n",
    "acc_by_group_gb = df_gb.groupby(\"group\").apply(lambda x: accuracy_score(x.y_true, x.y_pred))\n",
    "gap_gb = acc_by_group_gb.max() - acc_by_group_gb.min()\n",
    "\n",
    "print(\"Fairness Results — Gradient Boosting\")\n",
    "print(acc_by_group_gb.sort_values(ascending=False).round(3))\n",
    "print(f\"\\nSubgroup Accuracy Gap: {gap_gb:.3f}\")"
   ]
  },
  {
   "cell_type": "code",
   "execution_count": 52,
   "metadata": {},
   "outputs": [
    {
     "name": "stdout",
     "output_type": "stream",
     "text": [
      "Fairness Results — Random Forest\n",
      "group\n",
      "Vietnamese                        0.902\n",
      "Chinese                           0.899\n",
      "Hawaiian                          0.897\n",
      "Japanese                          0.895\n",
      "Cambodian                         0.875\n",
      "Filipino                          0.861\n",
      "Korean                            0.828\n",
      "Asian Indian                      0.826\n",
      "American Indian/Alaskan Native    0.819\n",
      "Pacific Islander                  0.811\n",
      "Unknown                           0.803\n",
      "Other Asian                       0.691\n",
      "Guamanian                         0.688\n",
      "White                             0.673\n",
      "Samoan                            0.667\n",
      "Other                             0.649\n",
      "Hispanic/Latino                   0.564\n",
      "Laotian                           0.562\n",
      "Black                             0.544\n",
      "dtype: float64\n",
      "\n",
      "Subgroup Accuracy Gap: 0.358\n"
     ]
    },
    {
     "name": "stderr",
     "output_type": "stream",
     "text": [
      "/var/folders/_f/fmfry0h146q34wf_0v7085kh0000gn/T/ipykernel_1054/1552847304.py:8: DeprecationWarning: DataFrameGroupBy.apply operated on the grouping columns. This behavior is deprecated, and in a future version of pandas the grouping columns will be excluded from the operation. Either pass `include_groups=False` to exclude the groupings or explicitly select the grouping columns after groupby to silence this warning.\n",
      "  acc_by_group_rf = df_rf.groupby(\"group\").apply(lambda x: accuracy_score(x.y_true, x.y_pred))\n"
     ]
    }
   ],
   "source": [
    "# Random Forest Fairness\n",
    "df_rf = pd.DataFrame({\n",
    "    \"y_true\": y_test,\n",
    "    \"y_pred\": y_pred_rf,\n",
    "    \"group\": df.loc[y_test.index, \"Vict Descent Full\"]\n",
    "})\n",
    "\n",
    "acc_by_group_rf = df_rf.groupby(\"group\").apply(lambda x: accuracy_score(x.y_true, x.y_pred))\n",
    "gap_rf = acc_by_group_rf.max() - acc_by_group_rf.min()\n",
    "\n",
    "print(\"Fairness Results — Random Forest\")\n",
    "print(acc_by_group_rf.sort_values(ascending=False).round(3))\n",
    "print(f\"\\nSubgroup Accuracy Gap: {gap_rf:.3f}\")"
   ]
  },
  {
   "cell_type": "code",
   "execution_count": 53,
   "metadata": {},
   "outputs": [
    {
     "name": "stdout",
     "output_type": "stream",
     "text": [
      "\n",
      "Overall Fairness Comparison:\n",
      "                 Model  Subgroup Accuracy Gap\n",
      "1        Random Forest                  0.358\n",
      "2    Gradient Boosting                  0.378\n",
      "0  Logistic Regression                  0.390\n"
     ]
    }
   ],
   "source": [
    "# Overall\n",
    "fairness_summary = pd.DataFrame({\n",
    "    \"Model\": [\"Logistic Regression\", \"Random Forest\", \"Gradient Boosting\"],\n",
    "    \"Subgroup Accuracy Gap\": [gap, gap_rf, gap_gb]\n",
    "}).sort_values(\"Subgroup Accuracy Gap\")\n",
    "\n",
    "print(\"\\nOverall Fairness Comparison:\")\n",
    "print(fairness_summary.round(3))"
   ]
  },
  {
   "cell_type": "markdown",
   "metadata": {},
   "source": [
    "Feature Importance"
   ]
  },
  {
   "cell_type": "code",
   "execution_count": 59,
   "metadata": {},
   "outputs": [
    {
     "data": {
      "image/png": "[encoded data removed]",
      "text/plain": [
       "<Figure size 800x600 with 1 Axes>"
      ]
     },
     "metadata": {},
     "output_type": "display_data"
    }
   ],
   "source": [
    "# Logistic Regression \n",
    "log_model = logreg_pipe.named_steps[\"model\"]\n",
    "pre = logreg_pipe.named_steps[\"pre\"]\n",
    "\n",
    "coefs = log_model.coef_[0]  # one-vs-rest (first class)\n",
    "feature_names = pre.get_feature_names_out()\n",
    "\n",
    "idx = np.argsort(np.abs(coefs))[-10:]\n",
    "plt.figure(figsize=(8,6))\n",
    "plt.barh(np.array(feature_names)[idx], np.abs(coefs[idx]))\n",
    "plt.title(\"Logistic Regression — Top 15 Coefficients (by Magnitude)\")\n",
    "plt.xlabel(\"|Coefficient|\")\n",
    "plt.tight_layout()\n",
    "plt.show()"
   ]
  },
  {
   "cell_type": "code",
   "execution_count": 58,
   "metadata": {},
   "outputs": [
    {
     "data": {
      "image/png": "[encoded data removed]",
      "text/plain": [
       "<Figure size 800x600 with 1 Axes>"
      ]
     },
     "metadata": {},
     "output_type": "display_data"
    }
   ],
   "source": [
    "# Gradient Boost \n",
    "gb_model = gb_pipe.named_steps[\"model\"]\n",
    "pre = gb_pipe.named_steps[\"pre\"]\n",
    "\n",
    "feature_names = pre.get_feature_names_out()\n",
    "importances = gb_model.feature_importances_\n",
    "\n",
    "idx = np.argsort(importances)[-10:]\n",
    "plt.figure(figsize=(8,6))\n",
    "plt.barh(np.array(feature_names)[idx], importances[idx])\n",
    "plt.title(\"Gradient Boosting — Top 15 Feature Importances\")\n",
    "plt.xlabel(\"Importance\")\n",
    "plt.tight_layout()\n",
    "plt.show()\n",
    "\n"
   ]
  },
  {
   "cell_type": "code",
   "execution_count": 57,
   "metadata": {},
   "outputs": [
    {
     "data": {
      "image/png": "[encoded data removed]",
      "text/plain": [
       "<Figure size 800x600 with 1 Axes>"
      ]
     },
     "metadata": {},
     "output_type": "display_data"
    }
   ],
   "source": [
    "rf_model = rf_pipe.named_steps[\"model\"]\n",
    "pre = rf_pipe.named_steps[\"pre\"]\n",
    "\n",
    "feature_names = pre.get_feature_names_out()\n",
    "importances = rf_model.feature_importances_\n",
    "\n",
    "# Sort and select top 15\n",
    "idx = np.argsort(importances)[-10:]\n",
    "plt.figure(figsize=(8,6))\n",
    "plt.barh(np.array(feature_names)[idx], importances[idx])\n",
    "plt.title(\"Random Forest — Top 15 Feature Importances\")\n",
    "plt.xlabel(\"Importance\")\n",
    "plt.tight_layout()\n",
    "plt.show()"
   ]
  },
  {
   "cell_type": "code",
   "execution_count": 60,
   "metadata": {},
   "outputs": [
    {
     "data": {
      "text/html": [
       "<div>\n",
       "<style scoped>\n",
       "    .dataframe tbody tr th:only-of-type {\n",
       "        vertical-align: middle;\n",
       "    }\n",
       "\n",
       "    .dataframe tbody tr th {\n",
       "        vertical-align: top;\n",
       "    }\n",
       "\n",
       "    .dataframe thead th {\n",
       "        text-align: right;\n",
       "    }\n",
       "</style>\n",
       "<table border=\"1\" class=\"dataframe\">\n",
       "  <thead>\n",
       "    <tr style=\"text-align: right;\">\n",
       "      <th></th>\n",
       "      <th>Feature</th>\n",
       "      <th>Importance</th>\n",
       "    </tr>\n",
       "  </thead>\n",
       "  <tbody>\n",
       "    <tr>\n",
       "      <th>2</th>\n",
       "      <td>num__Part 1-2</td>\n",
       "      <td>0.674823</td>\n",
       "    </tr>\n",
       "    <tr>\n",
       "      <th>9</th>\n",
       "      <td>cat__Vict Descent_H</td>\n",
       "      <td>0.045412</td>\n",
       "    </tr>\n",
       "    <tr>\n",
       "      <th>7</th>\n",
       "      <td>cat__Vict Descent_B</td>\n",
       "      <td>0.039791</td>\n",
       "    </tr>\n",
       "    <tr>\n",
       "      <th>0</th>\n",
       "      <td>cat__Vict Sex_F</td>\n",
       "      <td>0.014023</td>\n",
       "    </tr>\n",
       "    <tr>\n",
       "      <th>4</th>\n",
       "      <td>cat__Vict Descent_W</td>\n",
       "      <td>0.008625</td>\n",
       "    </tr>\n",
       "    <tr>\n",
       "      <th>3</th>\n",
       "      <td>cat__Vict Sex_M</td>\n",
       "      <td>0.002304</td>\n",
       "    </tr>\n",
       "    <tr>\n",
       "      <th>8</th>\n",
       "      <td>cat__Vict Descent_C</td>\n",
       "      <td>0.001796</td>\n",
       "    </tr>\n",
       "    <tr>\n",
       "      <th>1</th>\n",
       "      <td>cat__Vict Descent_J</td>\n",
       "      <td>0.000441</td>\n",
       "    </tr>\n",
       "    <tr>\n",
       "      <th>5</th>\n",
       "      <td>cat__Vict Descent_O</td>\n",
       "      <td>0.000111</td>\n",
       "    </tr>\n",
       "    <tr>\n",
       "      <th>6</th>\n",
       "      <td>cat__Vict Descent_A</td>\n",
       "      <td>0.000069</td>\n",
       "    </tr>\n",
       "  </tbody>\n",
       "</table>\n",
       "</div>"
      ],
      "text/plain": [
       "               Feature  Importance\n",
       "2        num__Part 1-2    0.674823\n",
       "9  cat__Vict Descent_H    0.045412\n",
       "7  cat__Vict Descent_B    0.039791\n",
       "0      cat__Vict Sex_F    0.014023\n",
       "4  cat__Vict Descent_W    0.008625\n",
       "3      cat__Vict Sex_M    0.002304\n",
       "8  cat__Vict Descent_C    0.001796\n",
       "1  cat__Vict Descent_J    0.000441\n",
       "5  cat__Vict Descent_O    0.000111\n",
       "6  cat__Vict Descent_A    0.000069"
      ]
     },
     "metadata": {},
     "output_type": "display_data"
    }
   ],
   "source": [
    "# Overall Analysis\n",
    "top_features_rf = pd.DataFrame({\n",
    "    \"Feature\": np.array(feature_names)[idx],\n",
    "    \"Importance\": importances[idx]\n",
    "}).sort_values(\"Importance\", ascending=False)\n",
    "\n",
    "display(top_features_rf)\n"
   ]
  },
  {
   "cell_type": "markdown",
   "metadata": {},
   "source": [
    "*Improved Representation*"
   ]
  },
  {
   "cell_type": "code",
   "execution_count": 61,
   "metadata": {},
   "outputs": [],
   "source": [
    "df_imp = df.copy()"
   ]
  },
  {
   "cell_type": "code",
   "execution_count": 62,
   "metadata": {},
   "outputs": [],
   "source": [
    "# Age bins (interpretable)\n",
    "df_imp[\"Vict Age Bin\"] = pd.cut(\n",
    "    df_imp[\"Vict Age\"],\n",
    "    bins=[0, 17, 29, 49, 64, 120],\n",
    "    labels=[\"0-17\",\"18-29\",\"30-49\",\"50-64\",\"65+\"],\n",
    "    right=True\n",
    ")"
   ]
  },
  {
   "cell_type": "code",
   "execution_count": 63,
   "metadata": {},
   "outputs": [],
   "source": [
    "# Group rare AREA NAMEs\n",
    "min_freq = 0.01  \n",
    "area_counts = df_imp[\"AREA NAME\"].value_counts(normalize=True)\n",
    "rare_areas = area_counts[area_counts < min_freq].index\n",
    "df_imp[\"AREA NAME Grouped\"] = df_imp[\"AREA NAME\"].where(~df_imp[\"AREA NAME\"].isin(rare_areas), \"Other\")"
   ]
  },
  {
   "cell_type": "code",
   "execution_count": 64,
   "metadata": {},
   "outputs": [],
   "source": [
    "# Same datetime features as baseline\n",
    "df_imp[\"OCC_Year\"] = df_imp[\"DATE OCC\"].dt.year\n",
    "df_imp[\"OCC_Month\"] = df_imp[\"DATE OCC\"].dt.month\n",
    "df_imp[\"OCC_Weekday\"] = df_imp[\"DATE OCC\"].dt.day_name()\n",
    "df_imp[\"OCC_Hour\"] = df_imp[\"TIME OCC\"] // 100"
   ]
  },
  {
   "cell_type": "code",
   "execution_count": 65,
   "metadata": {},
   "outputs": [],
   "source": [
    "demo_cols_imp = [\"Vict Age Bin\"]\n",
    "context_cols_imp = [\"AREA\", \"AREA NAME Grouped\", \"Rpt Dist No\"]"
   ]
  },
  {
   "cell_type": "code",
   "execution_count": 66,
   "metadata": {},
   "outputs": [],
   "source": [
    "model_cols_imp = demo_cols_imp + context_cols_imp + [\"Part 1-2\",\"OCC_Year\",\"OCC_Month\",\"OCC_Weekday\",\"OCC_Hour\"]\n",
    "df_model_improved = df_imp[model_cols_imp + [\"Crime_Category\",\"Vict Descent Full\"]].dropna().copy()"
   ]
  },
  {
   "cell_type": "code",
   "execution_count": 80,
   "metadata": {},
   "outputs": [],
   "source": [
    "X_imp = df_model_improved.drop(columns=[\"Crime_Category\", \"Vict Descent Full\"])\n",
    "y_imp = df_model_improved[\"Crime_Category\"]\n",
    "sens_imp = df_model_improved[\"Vict Descent Full\"]"
   ]
  },
  {
   "cell_type": "code",
   "execution_count": 81,
   "metadata": {},
   "outputs": [],
   "source": [
    "Xtr_imp, Xte_imp, ytr_imp, yte_imp = train_test_split(\n",
    "    X_imp, y_imp, test_size=0.2, stratify=y_imp, random_state=42\n",
    ")"
   ]
  },
  {
   "cell_type": "markdown",
   "metadata": {},
   "source": [
    "Preprocessing"
   ]
  },
  {
   "cell_type": "code",
   "execution_count": 83,
   "metadata": {},
   "outputs": [
    {
     "name": "stderr",
     "output_type": "stream",
     "text": [
      "/var/folders/_f/fmfry0h146q34wf_0v7085kh0000gn/T/ipykernel_1054/75739588.py:3: DeprecationWarning: is_categorical_dtype is deprecated and will be removed in a future version. Use isinstance(dtype, pd.CategoricalDtype) instead\n",
      "  if pd.api.types.is_object_dtype(X_imp[c]) or pd.api.types.is_categorical_dtype(X_imp[c])\n"
     ]
    }
   ],
   "source": [
    "cat_cols_imp = [\n",
    "    c for c in X_imp.columns \n",
    "    if pd.api.types.is_object_dtype(X_imp[c]) or pd.api.types.is_categorical_dtype(X_imp[c])\n",
    "]\n",
    "\n",
    "num_cols_imp = [\n",
    "    c for c in X_imp.columns \n",
    "    if pd.api.types.is_numeric_dtype(X_imp[c])\n",
    "]"
   ]
  },
  {
   "cell_type": "code",
   "execution_count": 85,
   "metadata": {},
   "outputs": [],
   "source": [
    "pre_imp = ColumnTransformer([\n",
    "    (\"num\", StandardScaler(), num_cols_imp),\n",
    "    (\"cat\", OneHotEncoder(handle_unknown=\"ignore\"), cat_cols_imp)\n",
    "])"
   ]
  },
  {
   "cell_type": "markdown",
   "metadata": {},
   "source": [
    "Model 1: Linear Regression"
   ]
  },
  {
   "cell_type": "code",
   "execution_count": 86,
   "metadata": {},
   "outputs": [],
   "source": [
    "logreg_imp = Pipeline([\n",
    "    (\"pre\", pre_imp),\n",
    "    (\"model\", LogisticRegression(max_iter=300, n_jobs=-1))\n",
    "])"
   ]
  },
  {
   "cell_type": "code",
   "execution_count": 87,
   "metadata": {},
   "outputs": [],
   "source": [
    "logreg_imp.fit(Xtr_imp, ytr_imp)\n",
    "y_pred_log_imp = logreg_imp.predict(Xte_imp)"
   ]
  },
  {
   "cell_type": "code",
   "execution_count": 96,
   "metadata": {},
   "outputs": [
    {
     "name": "stdout",
     "output_type": "stream",
     "text": [
      "Linear Regression (Improved)\n",
      "                     precision    recall  f1-score   support\n",
      "\n",
      "            Assault       0.40      0.62      0.48     39522\n",
      "        Cyber Crime       0.00      0.00      0.00        92\n",
      "       Drug/Alcohol       0.00      0.00      0.00         9\n",
      " Family/Child Issue       0.33      0.00      0.00       797\n",
      "           Homicide       0.00      0.00      0.00       310\n",
      "         Kidnapping       0.00      0.00      0.00       252\n",
      "              Other       0.00      0.00      0.00       943\n",
      "     Property Crime       0.29      0.03      0.05     15345\n",
      "       Sexual Crime       0.00      0.00      0.00      3878\n",
      "              Theft       0.73      0.83      0.78     73460\n",
      "Threat/Intimidation       0.00      0.00      0.00      5181\n",
      "      Vehicle Crime       0.00      0.00      0.00       277\n",
      "     Weapon Offense       0.00      0.00      0.00      7054\n",
      "\n",
      "           accuracy                           0.58    147120\n",
      "          macro avg       0.13      0.11      0.10    147120\n",
      "       weighted avg       0.50      0.58      0.52    147120\n",
      "\n",
      "Accuracy: 0.5849\n"
     ]
    }
   ],
   "source": [
    "print(\"Linear Regression (Improved)\")\n",
    "print(classification_report(yte_imp, y_pred_log_imp, zero_division=0))\n",
    "print(\"Accuracy:\", round(accuracy_score(yte_imp, y_pred_log_imp), 4))"
   ]
  },
  {
   "cell_type": "markdown",
   "metadata": {},
   "source": [
    "Model 2: Gradient Boost "
   ]
  },
  {
   "cell_type": "code",
   "execution_count": 88,
   "metadata": {},
   "outputs": [],
   "source": [
    "gb_imp = Pipeline([\n",
    "    (\"pre\", pre_imp),\n",
    "    (\"model\", GradientBoostingClassifier(\n",
    "        n_estimators=100, max_depth=3, learning_rate=0.1, random_state=42))\n",
    "])"
   ]
  },
  {
   "cell_type": "code",
   "execution_count": 89,
   "metadata": {},
   "outputs": [],
   "source": [
    "gb_imp.fit(Xtr_imp, ytr_imp)\n",
    "y_pred_gb_imp = gb_imp.predict(Xte_imp)"
   ]
  },
  {
   "cell_type": "code",
   "execution_count": 95,
   "metadata": {},
   "outputs": [
    {
     "name": "stdout",
     "output_type": "stream",
     "text": [
      "Gradient Boost (Improved)\n",
      "                     precision    recall  f1-score   support\n",
      "\n",
      "            Assault       0.43      0.59      0.50     39522\n",
      "        Cyber Crime       0.00      0.00      0.00        92\n",
      "       Drug/Alcohol       0.00      0.00      0.00         9\n",
      " Family/Child Issue       0.36      0.04      0.06       797\n",
      "           Homicide       0.00      0.00      0.00       310\n",
      "         Kidnapping       0.00      0.00      0.00       252\n",
      "              Other       0.00      0.00      0.00       943\n",
      "     Property Crime       0.45      0.10      0.17     15345\n",
      "       Sexual Crime       0.51      0.03      0.05      3878\n",
      "              Theft       0.72      0.87      0.79     73460\n",
      "Threat/Intimidation       0.00      0.00      0.00      5181\n",
      "      Vehicle Crime       0.00      0.00      0.00       277\n",
      "     Weapon Offense       0.00      0.00      0.00      7054\n",
      "\n",
      "           accuracy                           0.61    147120\n",
      "          macro avg       0.19      0.13      0.12    147120\n",
      "       weighted avg       0.54      0.61      0.55    147120\n",
      "\n",
      "Accuracy: 0.6069\n"
     ]
    }
   ],
   "source": [
    "print(\"Gradient Boost (Improved)\")\n",
    "print(classification_report(yte_imp, y_pred_gb_imp, zero_division=0))\n",
    "print(\"Accuracy:\", round(accuracy_score(yte_imp, y_pred_gb_imp), 4))"
   ]
  },
  {
   "cell_type": "markdown",
   "metadata": {},
   "source": [
    "Model 3: Random Forest (Improved)"
   ]
  },
  {
   "cell_type": "code",
   "execution_count": 97,
   "metadata": {},
   "outputs": [],
   "source": [
    "rf_imp = Pipeline([\n",
    "    (\"pre\", pre_imp),\n",
    "    (\"model\", RandomForestClassifier(\n",
    "        n_estimators=150, max_depth=15, n_jobs=-1, random_state=42))\n",
    "])"
   ]
  },
  {
   "cell_type": "code",
   "execution_count": 98,
   "metadata": {},
   "outputs": [],
   "source": [
    "rf_imp.fit(Xtr_imp, ytr_imp)\n",
    "y_pred_rf_imp = rf_imp.predict(Xte_imp)"
   ]
  },
  {
   "cell_type": "code",
   "execution_count": 99,
   "metadata": {},
   "outputs": [
    {
     "name": "stdout",
     "output_type": "stream",
     "text": [
      "Random Forest (Improved)\n",
      "                     precision    recall  f1-score   support\n",
      "\n",
      "            Assault       0.43      0.59      0.50     39522\n",
      "        Cyber Crime       0.00      0.00      0.00        92\n",
      "       Drug/Alcohol       0.00      0.00      0.00         9\n",
      " Family/Child Issue       0.51      0.03      0.05       797\n",
      "           Homicide       0.00      0.00      0.00       310\n",
      "         Kidnapping       0.00      0.00      0.00       252\n",
      "              Other       0.00      0.00      0.00       943\n",
      "     Property Crime       0.53      0.06      0.11     15345\n",
      "       Sexual Crime       0.56      0.02      0.04      3878\n",
      "              Theft       0.71      0.88      0.79     73460\n",
      "Threat/Intimidation       1.00      0.00      0.00      5181\n",
      "      Vehicle Crime       0.00      0.00      0.00       277\n",
      "     Weapon Offense       1.00      0.00      0.00      7054\n",
      "\n",
      "           accuracy                           0.61    147120\n",
      "          macro avg       0.37      0.12      0.11    147120\n",
      "       weighted avg       0.63      0.61      0.54    147120\n",
      "\n",
      "Accuracy: 0.6078\n"
     ]
    }
   ],
   "source": [
    "print(\"Random Forest (Improved)\")\n",
    "print(classification_report(yte_imp, y_pred_rf_imp, zero_division=0))\n",
    "print(\"Accuracy:\", round(accuracy_score(yte_imp, y_pred_rf_imp), 4))"
   ]
  },
  {
   "cell_type": "markdown",
   "metadata": {},
   "source": [
    "Fairness Report"
   ]
  },
  {
   "cell_type": "code",
   "execution_count": 103,
   "metadata": {},
   "outputs": [
    {
     "name": "stdout",
     "output_type": "stream",
     "text": [
      "Fairness Results — Logistic Regression (Improved)\n",
      "group\n",
      "Hawaiian                          0.828\n",
      "Guamanian                         0.812\n",
      "Chinese                           0.799\n",
      "Japanese                          0.783\n",
      "Asian Indian                      0.765\n",
      "Vietnamese                        0.765\n",
      "Filipino                          0.728\n",
      "Pacific Islander                  0.717\n",
      "Korean                            0.717\n",
      "American Indian/Alaskan Native    0.691\n",
      "Other Asian                       0.690\n",
      "Cambodian                         0.688\n",
      "White                             0.651\n",
      "Unknown                           0.636\n",
      "Other                             0.626\n",
      "Hispanic/Latino                   0.547\n",
      "Black                             0.508\n",
      "Laotian                           0.500\n",
      "Samoan                            0.444\n",
      "dtype: float64\n",
      "\n",
      "Subgroup Accuracy Gap: 0.425\n"
     ]
    },
    {
     "name": "stderr",
     "output_type": "stream",
     "text": [
      "/var/folders/_f/fmfry0h146q34wf_0v7085kh0000gn/T/ipykernel_1054/3148775432.py:8: DeprecationWarning: DataFrameGroupBy.apply operated on the grouping columns. This behavior is deprecated, and in a future version of pandas the grouping columns will be excluded from the operation. Either pass `include_groups=False` to exclude the groupings or explicitly select the grouping columns after groupby to silence this warning.\n",
      "  acc_by_group = df_logreg_imp.groupby(\"group\").apply(lambda x: accuracy_score(x.y_true, x.y_pred))\n"
     ]
    }
   ],
   "source": [
    "# Logistic Regression Fairness (Improved)\n",
    "df_logreg_imp = pd.DataFrame({\n",
    "    \"y_true\": yte_imp,\n",
    "    \"y_pred\": y_pred_log_imp,\n",
    "    \"group\": sens_imp.loc[yte_imp.index]\n",
    "})\n",
    "\n",
    "acc_by_group = df_logreg_imp.groupby(\"group\").apply(lambda x: accuracy_score(x.y_true, x.y_pred))\n",
    "gap_log_imp = acc_by_group.max() - acc_by_group.min()\n",
    "\n",
    "print(\"Fairness Results — Logistic Regression (Improved)\")\n",
    "print(acc_by_group.sort_values(ascending=False).round(3))\n",
    "print(f\"\\nSubgroup Accuracy Gap: {gap:.3f}\")"
   ]
  },
  {
   "cell_type": "code",
   "execution_count": 105,
   "metadata": {},
   "outputs": [
    {
     "name": "stdout",
     "output_type": "stream",
     "text": [
      "Fairness Results — Gradient Boosting (Improved)\n",
      "group\n",
      "Hawaiian                          0.862\n",
      "Japanese                          0.832\n",
      "Chinese                           0.818\n",
      "Guamanian                         0.812\n",
      "Vietnamese                        0.803\n",
      "Asian Indian                      0.791\n",
      "Filipino                          0.786\n",
      "Korean                            0.745\n",
      "American Indian/Alaskan Native    0.739\n",
      "Pacific Islander                  0.717\n",
      "Other Asian                       0.700\n",
      "Cambodian                         0.688\n",
      "Unknown                           0.677\n",
      "White                             0.674\n",
      "Other                             0.649\n",
      "Hispanic/Latino                   0.565\n",
      "Samoan                            0.556\n",
      "Black                             0.534\n",
      "Laotian                           0.500\n",
      "dtype: float64\n",
      "\n",
      "Subgroup Accuracy Gap: 0.425\n"
     ]
    },
    {
     "name": "stderr",
     "output_type": "stream",
     "text": [
      "/var/folders/_f/fmfry0h146q34wf_0v7085kh0000gn/T/ipykernel_1054/1195594417.py:8: DeprecationWarning: DataFrameGroupBy.apply operated on the grouping columns. This behavior is deprecated, and in a future version of pandas the grouping columns will be excluded from the operation. Either pass `include_groups=False` to exclude the groupings or explicitly select the grouping columns after groupby to silence this warning.\n",
      "  acc_by_group = df_gb_imp.groupby(\"group\").apply(lambda x: accuracy_score(x.y_true, x.y_pred))\n"
     ]
    }
   ],
   "source": [
    "# Gradient Boosting Fairness (Improved)\n",
    "df_gb_imp = pd.DataFrame({\n",
    "    \"y_true\": yte_imp,\n",
    "    \"y_pred\": y_pred_gb_imp,\n",
    "    \"group\": sens_imp.loc[yte_imp.index]\n",
    "})\n",
    "\n",
    "acc_by_group = df_gb_imp.groupby(\"group\").apply(lambda x: accuracy_score(x.y_true, x.y_pred))\n",
    "gap_gb_imp = acc_by_group.max() - acc_by_group.min()\n",
    "\n",
    "print(\"Fairness Results — Gradient Boosting (Improved)\")\n",
    "print(acc_by_group.sort_values(ascending=False).round(3))\n",
    "print(f\"\\nSubgroup Accuracy Gap: {gap:.3f}\")"
   ]
  },
  {
   "cell_type": "code",
   "execution_count": 104,
   "metadata": {},
   "outputs": [
    {
     "name": "stdout",
     "output_type": "stream",
     "text": [
      "Fairness Results — Random Forest (Improved)\n",
      "group\n",
      "Hawaiian                          0.862\n",
      "Japanese                          0.832\n",
      "Chinese                           0.819\n",
      "Cambodian                         0.812\n",
      "Guamanian                         0.812\n",
      "Asian Indian                      0.809\n",
      "Vietnamese                        0.795\n",
      "Filipino                          0.771\n",
      "American Indian/Alaskan Native    0.761\n",
      "Korean                            0.741\n",
      "Pacific Islander                  0.717\n",
      "Other Asian                       0.695\n",
      "Unknown                           0.686\n",
      "White                             0.673\n",
      "Other                             0.647\n",
      "Hispanic/Latino                   0.565\n",
      "Samoan                            0.556\n",
      "Black                             0.542\n",
      "Laotian                           0.438\n",
      "dtype: float64\n",
      "\n",
      "Subgroup Accuracy Gap: 0.425\n"
     ]
    },
    {
     "name": "stderr",
     "output_type": "stream",
     "text": [
      "/var/folders/_f/fmfry0h146q34wf_0v7085kh0000gn/T/ipykernel_1054/2486120672.py:8: DeprecationWarning: DataFrameGroupBy.apply operated on the grouping columns. This behavior is deprecated, and in a future version of pandas the grouping columns will be excluded from the operation. Either pass `include_groups=False` to exclude the groupings or explicitly select the grouping columns after groupby to silence this warning.\n",
      "  acc_by_group = df_rf_imp.groupby(\"group\").apply(lambda x: accuracy_score(x.y_true, x.y_pred))\n"
     ]
    }
   ],
   "source": [
    "# Random Forest Fairness (Improved)\n",
    "df_rf_imp = pd.DataFrame({\n",
    "    \"y_true\": yte_imp,\n",
    "    \"y_pred\": y_pred_rf_imp,\n",
    "    \"group\": sens_imp.loc[yte_imp.index]\n",
    "})\n",
    "\n",
    "acc_by_group = df_rf_imp.groupby(\"group\").apply(lambda x: accuracy_score(x.y_true, x.y_pred))\n",
    "gap_rf_imp = acc_by_group.max() - acc_by_group.min()\n",
    "\n",
    "print(\"Fairness Results — Random Forest (Improved)\")\n",
    "print(acc_by_group.sort_values(ascending=False).round(3))\n",
    "print(f\"\\nSubgroup Accuracy Gap: {gap:.3f}\")"
   ]
  },
  {
   "cell_type": "code",
   "execution_count": 106,
   "metadata": {},
   "outputs": [
    {
     "name": "stdout",
     "output_type": "stream",
     "text": [
      "\n",
      "Overall Fairness Comparison:\n",
      "                            Model  Subgroup Accuracy Gap\n",
      "2    Gradient Boosting (Improved)                  0.362\n",
      "0  Logistic Regression (Improved)                  0.383\n",
      "1        Random Forest (Improved)                  0.425\n"
     ]
    }
   ],
   "source": [
    "# Overall Fairness Summary\n",
    "fairness_summary = pd.DataFrame({\n",
    "    \"Model\": [\"Logistic Regression (Improved)\", \"Random Forest (Improved)\", \"Gradient Boosting (Improved)\"],\n",
    "    \"Subgroup Accuracy Gap\": [gap_log_imp, gap_rf_imp, gap_gb_imp]\n",
    "}).sort_values(\"Subgroup Accuracy Gap\")\n",
    "\n",
    "print(\"\\nOverall Fairness Comparison:\")\n",
    "print(fairness_summary.round(3))\n"
   ]
  },
  {
   "cell_type": "markdown",
   "metadata": {},
   "source": [
    "Feature Importance"
   ]
  },
  {
   "cell_type": "code",
   "execution_count": 109,
   "metadata": {},
   "outputs": [
    {
     "data": {
      "image/png": "[encoded data removed]",
      "text/plain": [
       "<Figure size 800x600 with 1 Axes>"
      ]
     },
     "metadata": {},
     "output_type": "display_data"
    }
   ],
   "source": [
    "# Logistic Regression\n",
    "log_model = logreg_imp.named_steps[\"model\"]\n",
    "pre = logreg_imp.named_steps[\"pre\"]\n",
    "\n",
    "feature_names = pre.get_feature_names_out()\n",
    "coefs = log_model.coef_[0]\n",
    "\n",
    "idx = np.argsort(np.abs(coefs))[-10:]\n",
    "plt.figure(figsize=(8,6))\n",
    "plt.barh(np.array(feature_names)[idx], np.abs(coefs[idx]))\n",
    "plt.title(\"Logistic Regression (Improved) — Top 15 Coefficients by Magnitude\")\n",
    "plt.xlabel(\"|Coefficient|\")\n",
    "plt.tight_layout()\n",
    "plt.show()"
   ]
  },
  {
   "cell_type": "code",
   "execution_count": 111,
   "metadata": {},
   "outputs": [
    {
     "data": {
      "image/png": "[encoded data removed]",
      "text/plain": [
       "<Figure size 800x600 with 1 Axes>"
      ]
     },
     "metadata": {},
     "output_type": "display_data"
    }
   ],
   "source": [
    "# Gradient Boosting\n",
    "gb_model = gb_imp.named_steps[\"model\"]\n",
    "pre = gb_imp.named_steps[\"pre\"]\n",
    "\n",
    "feature_names = pre.get_feature_names_out()\n",
    "importances = gb_model.feature_importances_\n",
    "\n",
    "idx = np.argsort(importances)[-10:]\n",
    "plt.figure(figsize=(8,6))\n",
    "plt.barh(np.array(feature_names)[idx], importances[idx])\n",
    "plt.title(\"Gradient Boosting (Improved) — Top 15 Feature Importances\")\n",
    "plt.xlabel(\"Importance\")\n",
    "plt.tight_layout()\n",
    "plt.show()"
   ]
  },
  {
   "cell_type": "code",
   "execution_count": 112,
   "metadata": {},
   "outputs": [
    {
     "data": {
      "image/png": "[encoded data removed]",
      "text/plain": [
       "<Figure size 800x600 with 1 Axes>"
      ]
     },
     "metadata": {},
     "output_type": "display_data"
    }
   ],
   "source": [
    "rf_model = rf_imp.named_steps[\"model\"]\n",
    "pre = rf_imp.named_steps[\"pre\"]\n",
    "\n",
    "feature_names = pre.get_feature_names_out()\n",
    "importances = rf_model.feature_importances_\n",
    "\n",
    "idx = np.argsort(importances)[-10:]\n",
    "plt.figure(figsize=(8,6))\n",
    "plt.barh(np.array(feature_names)[idx], importances[idx])\n",
    "plt.title(\"Random Forest (Improved) — Top 15 Feature Importances\")\n",
    "plt.xlabel(\"Importance\")\n",
    "plt.tight_layout()\n",
    "plt.show()\n"
   ]
  },
  {
   "cell_type": "markdown",
   "metadata": {},
   "source": [
    "*Comparing Baseline to Improved*"
   ]
  },
  {
   "cell_type": "code",
   "execution_count": 113,
   "metadata": {},
   "outputs": [],
   "source": [
    "report = classification_report(yte_imp, y_pred_log_imp, output_dict=True, zero_division=0)\n",
    "f1_log_imp = report[\"weighted avg\"][\"f1-score\"]\n",
    "acc_log_imp = report[\"accuracy\"]"
   ]
  },
  {
   "cell_type": "code",
   "execution_count": 115,
   "metadata": {},
   "outputs": [],
   "source": [
    "# Extracting Report from Baseline\n",
    "\n",
    "# Logistic Regression (Baseline)\n",
    "report_log = classification_report(y_test, y_pred_logreg, output_dict=True, zero_division=0)\n",
    "acc_log = report_log[\"accuracy\"]\n",
    "f1_log = report_log[\"weighted avg\"][\"f1-score\"]\n",
    "\n",
    "# Random Forest (Baseline)\n",
    "report_rf = classification_report(y_test, y_pred_rf, output_dict=True, zero_division=0)\n",
    "acc_rf = report_rf[\"accuracy\"]\n",
    "f1_rf = report_rf[\"weighted avg\"][\"f1-score\"]\n",
    "\n",
    "# Gradient Boosting (Baseline)\n",
    "report_gb = classification_report(y_test, y_pred_gb, output_dict=True, zero_division=0)\n",
    "acc_gb = report_gb[\"accuracy\"]\n",
    "f1_gb = report_gb[\"weighted avg\"][\"f1-score\"]"
   ]
  },
  {
   "cell_type": "code",
   "execution_count": 116,
   "metadata": {},
   "outputs": [],
   "source": [
    "# Extracting Report from Improved\n",
    "\n",
    "# Logistic Regression (Improved)\n",
    "report_log_imp = classification_report(yte_imp, y_pred_log_imp, output_dict=True, zero_division=0)\n",
    "acc_log_imp = report_log_imp[\"accuracy\"]\n",
    "f1_log_imp = report_log_imp[\"weighted avg\"][\"f1-score\"]\n",
    "\n",
    "# Random Forest (Improved)\n",
    "report_rf_imp = classification_report(yte_imp, y_pred_rf_imp, output_dict=True, zero_division=0)\n",
    "acc_rf_imp = report_rf_imp[\"accuracy\"]\n",
    "f1_rf_imp = report_rf_imp[\"weighted avg\"][\"f1-score\"]\n",
    "\n",
    "# Gradient Boosting (Improved)\n",
    "report_gb_imp = classification_report(yte_imp, y_pred_gb_imp, output_dict=True, zero_division=0)\n",
    "acc_gb_imp = report_gb_imp[\"accuracy\"]\n",
    "f1_gb_imp = report_gb_imp[\"weighted avg\"][\"f1-score\"]"
   ]
  },
  {
   "cell_type": "code",
   "execution_count": 118,
   "metadata": {},
   "outputs": [
    {
     "name": "stderr",
     "output_type": "stream",
     "text": [
      "/var/folders/_f/fmfry0h146q34wf_0v7085kh0000gn/T/ipykernel_1054/4128503130.py:6: DeprecationWarning: DataFrameGroupBy.apply operated on the grouping columns. This behavior is deprecated, and in a future version of pandas the grouping columns will be excluded from the operation. Either pass `include_groups=False` to exclude the groupings or explicitly select the grouping columns after groupby to silence this warning.\n",
      "  acc_by_group = df_logisticreg.groupby(\"group\").apply(lambda x: accuracy_score(x.y_true, x.y_pred))\n"
     ]
    }
   ],
   "source": [
    "df_logisticreg = pd.DataFrame({\n",
    "    \"y_true\" : y_test,\n",
    "    \"y_pred\" : y_pred_logreg,\n",
    "    \"group\" :  df.loc[y_test.index, \"Vict Descent Full\"]\n",
    "})\n",
    "acc_by_group = df_logisticreg.groupby(\"group\").apply(lambda x: accuracy_score(x.y_true, x.y_pred))\n",
    "gap = acc_by_group.max() - acc_by_group.min()\n"
   ]
  },
  {
   "cell_type": "code",
   "execution_count": 119,
   "metadata": {},
   "outputs": [],
   "source": [
    "gap_log = gap   # after Logistic Regression baseline fairness\n",
    "gap_rf = gap    # after Random Forest baseline fairness\n",
    "gap_gb = gap    # after Gradient Boosting baseline fairness\n"
   ]
  },
  {
   "cell_type": "code",
   "execution_count": 121,
   "metadata": {},
   "outputs": [
    {
     "data": {
      "text/html": [
       "<div>\n",
       "<style scoped>\n",
       "    .dataframe tbody tr th:only-of-type {\n",
       "        vertical-align: middle;\n",
       "    }\n",
       "\n",
       "    .dataframe tbody tr th {\n",
       "        vertical-align: top;\n",
       "    }\n",
       "\n",
       "    .dataframe thead th {\n",
       "        text-align: right;\n",
       "    }\n",
       "</style>\n",
       "<table border=\"1\" class=\"dataframe\">\n",
       "  <thead>\n",
       "    <tr style=\"text-align: right;\">\n",
       "      <th></th>\n",
       "      <th>Model</th>\n",
       "      <th>Accuracy</th>\n",
       "      <th>F1-Score</th>\n",
       "      <th>Fairness Gap</th>\n",
       "    </tr>\n",
       "  </thead>\n",
       "  <tbody>\n",
       "    <tr>\n",
       "      <th>0</th>\n",
       "      <td>Logistic Regression (Baseline)</td>\n",
       "      <td>0.594</td>\n",
       "      <td>0.539</td>\n",
       "      <td>0.390</td>\n",
       "    </tr>\n",
       "    <tr>\n",
       "      <th>1</th>\n",
       "      <td>Logistic Regression (Improved)</td>\n",
       "      <td>0.585</td>\n",
       "      <td>0.523</td>\n",
       "      <td>0.383</td>\n",
       "    </tr>\n",
       "    <tr>\n",
       "      <th>2</th>\n",
       "      <td>Random Forest (Baseline)</td>\n",
       "      <td>0.613</td>\n",
       "      <td>0.548</td>\n",
       "      <td>0.390</td>\n",
       "    </tr>\n",
       "    <tr>\n",
       "      <th>3</th>\n",
       "      <td>Random Forest (Improved)</td>\n",
       "      <td>0.608</td>\n",
       "      <td>0.541</td>\n",
       "      <td>0.425</td>\n",
       "    </tr>\n",
       "    <tr>\n",
       "      <th>4</th>\n",
       "      <td>Gradient Boosting (Baseline)</td>\n",
       "      <td>0.616</td>\n",
       "      <td>0.565</td>\n",
       "      <td>0.390</td>\n",
       "    </tr>\n",
       "    <tr>\n",
       "      <th>5</th>\n",
       "      <td>Gradient Boosting (Improved)</td>\n",
       "      <td>0.607</td>\n",
       "      <td>0.548</td>\n",
       "      <td>0.362</td>\n",
       "    </tr>\n",
       "  </tbody>\n",
       "</table>\n",
       "</div>"
      ],
      "text/plain": [
       "                            Model  Accuracy  F1-Score  Fairness Gap\n",
       "0  Logistic Regression (Baseline)     0.594     0.539         0.390\n",
       "1  Logistic Regression (Improved)     0.585     0.523         0.383\n",
       "2        Random Forest (Baseline)     0.613     0.548         0.390\n",
       "3        Random Forest (Improved)     0.608     0.541         0.425\n",
       "4    Gradient Boosting (Baseline)     0.616     0.565         0.390\n",
       "5    Gradient Boosting (Improved)     0.607     0.548         0.362"
      ]
     },
     "execution_count": 121,
     "metadata": {},
     "output_type": "execute_result"
    }
   ],
   "source": [
    "comparison_df = pd.DataFrame({\n",
    "    \"Model\": [\n",
    "        \"Logistic Regression (Baseline)\", \"Logistic Regression (Improved)\",\n",
    "        \"Random Forest (Baseline)\", \"Random Forest (Improved)\",\n",
    "        \"Gradient Boosting (Baseline)\", \"Gradient Boosting (Improved)\"\n",
    "    ],\n",
    "    \"Accuracy\": [\n",
    "        acc_log, acc_log_imp,\n",
    "        acc_rf, acc_rf_imp,\n",
    "        acc_gb, acc_gb_imp\n",
    "    ],\n",
    "    \"F1-Score\": [\n",
    "        f1_log, f1_log_imp,\n",
    "        f1_rf, f1_rf_imp,\n",
    "        f1_gb, f1_gb_imp\n",
    "    ],\n",
    "    \"Fairness Gap\": [\n",
    "        gap_log, gap_log_imp,\n",
    "        gap_rf, gap_rf_imp,\n",
    "        gap_gb, gap_gb_imp\n",
    "    ]\n",
    "})\n",
    "comparison_df.round(3)\n"
   ]
  },
  {
   "cell_type": "code",
   "execution_count": 122,
   "metadata": {},
   "outputs": [
    {
     "data": {
      "image/png": "[encoded data removed]",
      "text/plain": [
       "<Figure size 1500x500 with 3 Axes>"
      ]
     },
     "metadata": {},
     "output_type": "display_data"
    }
   ],
   "source": [
    "# Baseline vs Improved Visualizations\n",
    "\n",
    "models = [\"LogReg\", \"RandomForest\", \"GradBoost\"]\n",
    "x = np.arange(len(models))\n",
    "width = 0.35\n",
    "\n",
    "acc_baseline = [0.594, 0.613, 0.616]\n",
    "acc_improved = [0.585, 0.608, 0.607]\n",
    "\n",
    "f1_baseline = [0.539, 0.548, 0.565]\n",
    "f1_improved = [0.523, 0.541, 0.548]\n",
    "\n",
    "gap_baseline = [0.390, 0.390, 0.390]\n",
    "gap_improved = [0.383, 0.425, 0.362]\n",
    "\n",
    "fig, axes = plt.subplots(1, 3, figsize=(15,5))\n",
    "titles = [\"Accuracy\", \"F1-Score\", \"Fairness Gap (Lower = Fairer)\"]\n",
    "metrics = [(acc_baseline, acc_improved),\n",
    "           (f1_baseline, f1_improved),\n",
    "           (gap_baseline, gap_improved)]\n",
    "\n",
    "for ax, (baseline, improved), title in zip(axes, metrics, titles):\n",
    "    ax.bar(x - width/2, baseline, width, label=\"Baseline\", alpha=0.8)\n",
    "    ax.bar(x + width/2, improved, width, label=\"Improved\", alpha=0.8)\n",
    "    ax.set_xticks(x)\n",
    "    ax.set_xticklabels(models)\n",
    "    ax.set_title(title)\n",
    "    ax.legend()\n",
    "    ax.grid(axis='y', linestyle='--', alpha=0.5)\n",
    "\n",
    "plt.suptitle(\"Baseline vs Improved — Model Performance and Fairness\", fontsize=14)\n",
    "plt.tight_layout()\n",
    "plt.show()\n"
   ]
  }
 ],
 "metadata": {
  "kernelspec": {
   "display_name": "Python 3",
   "language": "python",
   "name": "python3"
  },
  "language_info": {
   "codemirror_mode": {
    "name": "ipython",
    "version": 3
   },
   "file_extension": ".py",
   "mimetype": "text/x-python",
   "name": "python",
   "nbconvert_exporter": "python",
   "pygments_lexer": "ipython3",
   "version": "3.13.0"
  }
 },
 "nbformat": 4,
 "nbformat_minor": 2
}
